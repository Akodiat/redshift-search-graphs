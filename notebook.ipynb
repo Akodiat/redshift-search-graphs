{
 "cells": [
  {
   "cell_type": "code",
   "execution_count": 1,
   "metadata": {},
   "outputs": [],
   "source": [
    "import numpy as np\n",
    "import rsg"
   ]
  },
  {
   "cell_type": "code",
   "execution_count": 2,
   "metadata": {},
   "outputs": [],
   "source": [
    "loFreq = np.array([89.13, 100.88, 92.83, 104.58, 96.53, 108.28, 139.85, 151.6, 143.54999999999998, 155.29999999999998, 147.24999999999997, 158.99999999999997])\n",
    "upFreq = np.array([92.88, 104.63, 96.58, 108.33, 100.28, 112.03, 143.6, 155.35, 147.29999999999998, 159.04999999999998, 150.99999999999997, 162.74999999999997])"
   ]
  },
  {
   "cell_type": "code",
   "execution_count": null,
   "metadata": {},
   "outputs": [],
   "source": [
    "rsg.RSGplot(loFreq,upFreq,z_phot=3.0,sl_freq_obs=[93.463,155.772],figSizeX=6,figSizeY=4,redshift_down=0,redshift_up=7,LSBUSB=True)"
   ]
  }
 ],
 "metadata": {
  "kernelspec": {
   "display_name": "base",
   "language": "python",
   "name": "python3"
  },
  "language_info": {
   "codemirror_mode": {
    "name": "ipython",
    "version": 3
   },
   "file_extension": ".py",
   "mimetype": "text/x-python",
   "name": "python",
   "nbconvert_exporter": "python",
   "pygments_lexer": "ipython3",
   "version": "3.10.13"
  }
 },
 "nbformat": 4,
 "nbformat_minor": 2
}
